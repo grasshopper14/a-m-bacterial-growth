{
 "cells": [
  {
   "cell_type": "code",
   "execution_count": 1,
   "id": "0c27b6ad-9dfc-4532-a480-ca1823f97326",
   "metadata": {},
   "outputs": [],
   "source": [
    "import numpy as np\n",
    "import pandas as pd\n",
    "import matplotlib.pyplot as plt\n",
    "from lmfit import minimize, Parameters, fit_report, Model"
   ]
  },
  {
   "cell_type": "markdown",
   "id": "49b0b270-caed-4083-8923-42ccb6875d59",
   "metadata": {},
   "source": [
    "### Defining the models and origins"
   ]
  },
  {
   "cell_type": "code",
   "execution_count": 23,
   "id": "b8cea2a6-5213-4dc1-8ca7-e17b1f5b9a61",
   "metadata": {},
   "outputs": [],
   "source": [
    "def fn(x,a,m):\n",
    "    xdep = (-27*x*m/2/a+np.sqrt(729*(x*m/a)**2+108/a**3)/2)\n",
    "    return xdep**(-1./3)/a-xdep**(1./3)/3\n",
    "def fngrad(x,a,m):\n",
    "    return m/(1+3*a*fn(x,a,m)**2)\n",
    "def fnc1(x,a,m1):\n",
    "        return fn(x-xl[0],a,m1)+yl[0]\n",
    "def fnc2(x,a,m1,m2,p,q):\n",
    "        return p*(fn(x-xl[0],a,m1)+yl[0])+q*(fn(x-xl[1],a,m2)+yl[1])\n",
    "def fnc3(x,a,m1,m2,m3,p,q,r):\n",
    "        return p*(fn(x-xl[0],a,m1)+yl[0])+q*(fn(x-xl[1],a,m2)+yl[1])+r*(\n",
    "            fn(x-xl[2],a,m3)+yl[2])\n",
    "def fnc4(x,a,m1,m2,m3,m4,p,q,r,s):\n",
    "    return p*(fn(x-xl[0],a,m1)+yl[0])+q*(fn(x-xl[1],a,m2)+yl[1])+r*(\n",
    "            fn(x-xl[2],a,m3)+yl[2])+s*(fn(x-xl[3],a,m4)+yl[3])\n",
    "def origins(x,y,ams):\n",
    "    grads=(y[1:]-y[:-1])/(x[1:]-x[:-1])\n",
    "    mxpts = np.argpartition(np.abs(grads),-ams-1)[-ams-1:]\n",
    "    xl = np.empty(ams+1)\n",
    "    yl = np.empty(ams+1)\n",
    "    for i in np.arange(len(mxpts)):\n",
    "        xl[i] = (x[mxpts[i]]+x[mxpts[i]+1])/2\n",
    "        yl[i] = (y[mxpts[i]]+y[mxpts[i]+1])/2\n",
    "    return xl,yl,grads[mxpts]\n",
    "\n",
    "def add_ams(n,grads):\n",
    "    mi1,mi2,mi3,mi4=[-1,1,1,-1]\n",
    "    if n==0:model = Model(fnc1);#mi1=grads[0]\n",
    "    elif n==1:model = Model(fnc2);#mi2,mi1 = grads\n",
    "    elif n==2:model = Model(fnc3);#mi3,mi2,mi1 = grads\n",
    "    elif n==3:model = Model(fnc4);#mi4,mi3,mi2,mi1 = grads\n",
    "    parms = model.make_params(a=dict(value=1, min=1e-3),\n",
    "                               m1=dict(value=mi1),m2=dict(value=mi2),\n",
    "                                 m3=dict(value=mi3),m4=dict(value=mi4),\n",
    "                                 p=dict(value=1),q=dict(value=-1),\n",
    "                                 r=dict(value=1),s=dict(value=-1),)\n",
    "    return model,parms"
   ]
  },
  {
   "cell_type": "markdown",
   "id": "77f3952f-4f44-43cd-81de-ddfb62a20fdc",
   "metadata": {},
   "source": [
    "### Loading the data and estimating model parameters"
   ]
  },
  {
   "cell_type": "code",
   "execution_count": 24,
   "id": "7d2a651d-646b-4627-9959-21c22f671500",
   "metadata": {},
   "outputs": [],
   "source": [
    "df = pd.read_table('bactgrowth.txt')\n",
    "idx = df[df['time']==0].index\n",
    "for k in range(4):\n",
    "    res = [];xc=[];yc=[]\n",
    "    for j in range(72):\n",
    "        x = df[idx[j]:idx[j]+31]['time'].to_numpy()\n",
    "        y = df[idx[j]:idx[j]+31]['value'].to_numpy()\n",
    "        detls = {'strain':df.iloc[idx[j]].strain, 'replicate':df.iloc[idx[j]].replicate,\n",
    "                 'conc':df.iloc[idx[j]].conc}\n",
    "        xl,yl,grads = origins(x,y,k)\n",
    "        xc.append(xl);yc.append(yl)\n",
    "        model,parms = add_ams(k,grads)\n",
    "        out = model.fit(y,parms,x=x)\n",
    "        detls.update(out.values)\n",
    "        res.append(detls)\n",
    "    if k==0:\n",
    "        df_res1 = pd.DataFrame.from_dict(res)\n",
    "        df_res1['xc1']=[i[0] for i in xc]\n",
    "        df_res1['yc1']=[i[0] for i in yc]\n",
    "    elif k==1:\n",
    "        df_res2 = pd.DataFrame.from_dict(res)\n",
    "        df_res2['xc1']=[i[0] for i in xc]\n",
    "        df_res2['xc2']=[i[1] for i in xc]\n",
    "        df_res2['yc1']=[i[0] for i in yc]\n",
    "        df_res2['yc2']=[i[1] for i in yc]\n",
    "    elif k==2:\n",
    "        df_res3 = pd.DataFrame.from_dict(res)\n",
    "        df_res3['xc1']=[i[0] for i in xc]\n",
    "        df_res3['xc2']=[i[1] for i in xc]\n",
    "        df_res3['xc3']=[i[2] for i in xc]\n",
    "        df_res3['yc1']=[i[0] for i in yc]\n",
    "        df_res3['yc2']=[i[1] for i in yc]\n",
    "        df_res3['yc3']=[i[2] for i in yc]\n",
    "    elif k==3:\n",
    "        df_res4 = pd.DataFrame.from_dict(res)\n",
    "        df_res4['xc1']=[i[0] for i in xc]\n",
    "        df_res4['xc2']=[i[1] for i in xc]\n",
    "        df_res4['xc3']=[i[2] for i in xc]\n",
    "        df_res4['xc4']=[i[3] for i in xc]\n",
    "        df_res4['yc1']=[i[0] for i in yc]\n",
    "        df_res4['yc2']=[i[1] for i in yc]\n",
    "        df_res4['yc3']=[i[2] for i in yc]\n",
    "        df_res4['yc4']=[i[3] for i in yc]\n"
   ]
  },
  {
   "cell_type": "markdown",
   "id": "7a4a6e13-2eda-409c-b293-fd5b13e7ac08",
   "metadata": {},
   "source": [
    "### Generate csv files"
   ]
  },
  {
   "cell_type": "code",
   "execution_count": null,
   "id": "23f295ad-6de4-481b-a3d4-08367e071382",
   "metadata": {},
   "outputs": [],
   "source": [
    "df_res1=pd.read_csv('NI.csv')\n",
    "df_res2=pd.read_csv('NII.csv')\n",
    "df_res3=pd.read_csv('NIII.csv')\n",
    "df_res4=pd.read_csv('NIV.csv')"
   ]
  },
  {
   "cell_type": "code",
   "execution_count": null,
   "id": "f80562b3-20c1-4f36-9573-2c281a3b5152",
   "metadata": {},
   "outputs": [],
   "source": []
  },
  {
   "cell_type": "code",
   "execution_count": null,
   "id": "8cd103d0-79ae-48c3-8caf-b6268e004c1f",
   "metadata": {},
   "outputs": [],
   "source": []
  },
  {
   "cell_type": "code",
   "execution_count": null,
   "id": "247f8e6a-6853-44b0-bbcd-e4e42c8f048a",
   "metadata": {},
   "outputs": [],
   "source": []
  }
 ],
 "metadata": {
  "kernelspec": {
   "display_name": "Python 3 (ipykernel)",
   "language": "python",
   "name": "python3"
  },
  "language_info": {
   "codemirror_mode": {
    "name": "ipython",
    "version": 3
   },
   "file_extension": ".py",
   "mimetype": "text/x-python",
   "name": "python",
   "nbconvert_exporter": "python",
   "pygments_lexer": "ipython3",
   "version": "3.8.10"
  }
 },
 "nbformat": 4,
 "nbformat_minor": 5
}
